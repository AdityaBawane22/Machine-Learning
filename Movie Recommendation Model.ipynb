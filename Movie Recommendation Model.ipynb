{
 "cells": [
  {
   "cell_type": "code",
   "execution_count": 6,
   "id": "809324ed",
   "metadata": {},
   "outputs": [],
   "source": [
    "import pandas as pd\n",
    "from sklearn.feature_extraction.text import TfidfVectorizer\n",
    "from sklearn.metrics.pairwise import cosine_similarity"
   ]
  },
  {
   "cell_type": "code",
   "execution_count": 7,
   "id": "ac53019f",
   "metadata": {},
   "outputs": [],
   "source": [
    "df1 = pd.read_csv(r'E:\\HDD storage (E)\\Data Science Preparation\\Machine Learning\\Datasets\\Comedy Movies.csv')"
   ]
  },
  {
   "cell_type": "code",
   "execution_count": 8,
   "id": "6af3fe8b",
   "metadata": {},
   "outputs": [],
   "source": [
    "df2 = pd.read_csv(r'E:\\HDD storage (E)\\Data Science Preparation\\Machine Learning\\Datasets\\Thriller Movies.csv')"
   ]
  },
  {
   "cell_type": "code",
   "execution_count": 9,
   "id": "c15498e3",
   "metadata": {},
   "outputs": [
    {
     "name": "stdout",
     "output_type": "stream",
     "text": [
      "<class 'pandas.core.frame.DataFrame'>\n",
      "RangeIndex: 96 entries, 0 to 95\n",
      "Data columns (total 16 columns):\n",
      " #   Column          Non-Null Count  Dtype  \n",
      "---  ------          --------------  -----  \n",
      " 0   Position        96 non-null     int64  \n",
      " 1   Const           96 non-null     object \n",
      " 2   Created         96 non-null     object \n",
      " 3   Modified        96 non-null     object \n",
      " 4   Description     0 non-null      float64\n",
      " 5   Title           96 non-null     object \n",
      " 6   Original Title  96 non-null     object \n",
      " 7   URL             96 non-null     object \n",
      " 8   Title Type      96 non-null     object \n",
      " 9   IMDb Rating     96 non-null     float64\n",
      " 10  Runtime (mins)  94 non-null     float64\n",
      " 11  Year            96 non-null     int64  \n",
      " 12  Genres          96 non-null     object \n",
      " 13  Num Votes       96 non-null     int64  \n",
      " 14  Release Date    96 non-null     object \n",
      " 15  Directors       96 non-null     object \n",
      "dtypes: float64(3), int64(3), object(10)\n",
      "memory usage: 12.1+ KB\n"
     ]
    }
   ],
   "source": [
    "df1.info()"
   ]
  },
  {
   "cell_type": "code",
   "execution_count": 10,
   "id": "a2c57b96",
   "metadata": {},
   "outputs": [
    {
     "data": {
      "text/html": [
       "<div>\n",
       "<style scoped>\n",
       "    .dataframe tbody tr th:only-of-type {\n",
       "        vertical-align: middle;\n",
       "    }\n",
       "\n",
       "    .dataframe tbody tr th {\n",
       "        vertical-align: top;\n",
       "    }\n",
       "\n",
       "    .dataframe thead th {\n",
       "        text-align: right;\n",
       "    }\n",
       "</style>\n",
       "<table border=\"1\" class=\"dataframe\">\n",
       "  <thead>\n",
       "    <tr style=\"text-align: right;\">\n",
       "      <th></th>\n",
       "      <th>Position</th>\n",
       "      <th>Const</th>\n",
       "      <th>Created</th>\n",
       "      <th>Modified</th>\n",
       "      <th>Description</th>\n",
       "      <th>Title</th>\n",
       "      <th>Original Title</th>\n",
       "      <th>URL</th>\n",
       "      <th>Title Type</th>\n",
       "      <th>IMDb Rating</th>\n",
       "      <th>Runtime (mins)</th>\n",
       "      <th>Year</th>\n",
       "      <th>Genres</th>\n",
       "      <th>Num Votes</th>\n",
       "      <th>Release Date</th>\n",
       "      <th>Directors</th>\n",
       "    </tr>\n",
       "  </thead>\n",
       "  <tbody>\n",
       "    <tr>\n",
       "      <th>0</th>\n",
       "      <td>1</td>\n",
       "      <td>tt0242519</td>\n",
       "      <td>2013-08-05</td>\n",
       "      <td>2013-08-05</td>\n",
       "      <td>NaN</td>\n",
       "      <td>Hera Pheri</td>\n",
       "      <td>Hera Pheri</td>\n",
       "      <td>https://www.imdb.com/title/tt0242519/</td>\n",
       "      <td>Movie</td>\n",
       "      <td>8.2</td>\n",
       "      <td>156.0</td>\n",
       "      <td>2000</td>\n",
       "      <td>Action, Comedy, Crime, Drama</td>\n",
       "      <td>76409</td>\n",
       "      <td>2000-03-31</td>\n",
       "      <td>Priyadarshan</td>\n",
       "    </tr>\n",
       "    <tr>\n",
       "      <th>1</th>\n",
       "      <td>2</td>\n",
       "      <td>tt0374887</td>\n",
       "      <td>2013-08-05</td>\n",
       "      <td>2013-08-05</td>\n",
       "      <td>NaN</td>\n",
       "      <td>Munna Bhai M.B.B.S.</td>\n",
       "      <td>Munna Bhai M.B.B.S.</td>\n",
       "      <td>https://www.imdb.com/title/tt0374887/</td>\n",
       "      <td>Movie</td>\n",
       "      <td>8.1</td>\n",
       "      <td>156.0</td>\n",
       "      <td>2003</td>\n",
       "      <td>Comedy, Drama</td>\n",
       "      <td>92433</td>\n",
       "      <td>2003-12-19</td>\n",
       "      <td>Rajkumar Hirani</td>\n",
       "    </tr>\n",
       "    <tr>\n",
       "      <th>2</th>\n",
       "      <td>3</td>\n",
       "      <td>tt0109117</td>\n",
       "      <td>2013-08-05</td>\n",
       "      <td>2013-08-05</td>\n",
       "      <td>NaN</td>\n",
       "      <td>Andaz Apna Apna</td>\n",
       "      <td>Andaz Apna Apna</td>\n",
       "      <td>https://www.imdb.com/title/tt0109117/</td>\n",
       "      <td>Movie</td>\n",
       "      <td>8.0</td>\n",
       "      <td>160.0</td>\n",
       "      <td>1994</td>\n",
       "      <td>Action, Comedy, Romance</td>\n",
       "      <td>56844</td>\n",
       "      <td>1994-11-04</td>\n",
       "      <td>Rajkumar Santoshi</td>\n",
       "    </tr>\n",
       "    <tr>\n",
       "      <th>3</th>\n",
       "      <td>4</td>\n",
       "      <td>tt1187043</td>\n",
       "      <td>2013-08-05</td>\n",
       "      <td>2013-08-05</td>\n",
       "      <td>NaN</td>\n",
       "      <td>3 Idiots</td>\n",
       "      <td>3 Idiots</td>\n",
       "      <td>https://www.imdb.com/title/tt1187043/</td>\n",
       "      <td>Movie</td>\n",
       "      <td>8.4</td>\n",
       "      <td>170.0</td>\n",
       "      <td>2009</td>\n",
       "      <td>Comedy, Drama</td>\n",
       "      <td>461395</td>\n",
       "      <td>2009-12-25</td>\n",
       "      <td>Rajkumar Hirani</td>\n",
       "    </tr>\n",
       "    <tr>\n",
       "      <th>4</th>\n",
       "      <td>5</td>\n",
       "      <td>tt0419058</td>\n",
       "      <td>2013-08-05</td>\n",
       "      <td>2013-08-05</td>\n",
       "      <td>NaN</td>\n",
       "      <td>Phir Hera Pheri</td>\n",
       "      <td>Phir Hera Pheri</td>\n",
       "      <td>https://www.imdb.com/title/tt0419058/</td>\n",
       "      <td>Movie</td>\n",
       "      <td>7.4</td>\n",
       "      <td>153.0</td>\n",
       "      <td>2006</td>\n",
       "      <td>Comedy, Crime</td>\n",
       "      <td>30440</td>\n",
       "      <td>2006-06-09</td>\n",
       "      <td>Neeraj Vora</td>\n",
       "    </tr>\n",
       "  </tbody>\n",
       "</table>\n",
       "</div>"
      ],
      "text/plain": [
       "   Position      Const     Created    Modified  Description  \\\n",
       "0         1  tt0242519  2013-08-05  2013-08-05          NaN   \n",
       "1         2  tt0374887  2013-08-05  2013-08-05          NaN   \n",
       "2         3  tt0109117  2013-08-05  2013-08-05          NaN   \n",
       "3         4  tt1187043  2013-08-05  2013-08-05          NaN   \n",
       "4         5  tt0419058  2013-08-05  2013-08-05          NaN   \n",
       "\n",
       "                 Title       Original Title  \\\n",
       "0           Hera Pheri           Hera Pheri   \n",
       "1  Munna Bhai M.B.B.S.  Munna Bhai M.B.B.S.   \n",
       "2      Andaz Apna Apna      Andaz Apna Apna   \n",
       "3             3 Idiots             3 Idiots   \n",
       "4      Phir Hera Pheri      Phir Hera Pheri   \n",
       "\n",
       "                                     URL Title Type  IMDb Rating  \\\n",
       "0  https://www.imdb.com/title/tt0242519/      Movie          8.2   \n",
       "1  https://www.imdb.com/title/tt0374887/      Movie          8.1   \n",
       "2  https://www.imdb.com/title/tt0109117/      Movie          8.0   \n",
       "3  https://www.imdb.com/title/tt1187043/      Movie          8.4   \n",
       "4  https://www.imdb.com/title/tt0419058/      Movie          7.4   \n",
       "\n",
       "   Runtime (mins)  Year                        Genres  Num Votes Release Date  \\\n",
       "0           156.0  2000  Action, Comedy, Crime, Drama      76409   2000-03-31   \n",
       "1           156.0  2003                 Comedy, Drama      92433   2003-12-19   \n",
       "2           160.0  1994       Action, Comedy, Romance      56844   1994-11-04   \n",
       "3           170.0  2009                 Comedy, Drama     461395   2009-12-25   \n",
       "4           153.0  2006                 Comedy, Crime      30440   2006-06-09   \n",
       "\n",
       "           Directors  \n",
       "0       Priyadarshan  \n",
       "1    Rajkumar Hirani  \n",
       "2  Rajkumar Santoshi  \n",
       "3    Rajkumar Hirani  \n",
       "4        Neeraj Vora  "
      ]
     },
     "execution_count": 10,
     "metadata": {},
     "output_type": "execute_result"
    }
   ],
   "source": [
    "df1.head(5)"
   ]
  },
  {
   "cell_type": "code",
   "execution_count": 11,
   "id": "6479cd55",
   "metadata": {},
   "outputs": [
    {
     "data": {
      "text/plain": [
       "Position           0\n",
       "Const              0\n",
       "Created            0\n",
       "Modified           0\n",
       "Description       29\n",
       "Title              0\n",
       "Original Title     0\n",
       "URL                0\n",
       "Title Type         0\n",
       "IMDb Rating        0\n",
       "Runtime (mins)     0\n",
       "Year               0\n",
       "Genres             0\n",
       "Num Votes          0\n",
       "Release Date       0\n",
       "Directors          0\n",
       "dtype: int64"
      ]
     },
     "execution_count": 11,
     "metadata": {},
     "output_type": "execute_result"
    }
   ],
   "source": [
    "df2.isna().sum()"
   ]
  },
  {
   "cell_type": "code",
   "execution_count": 12,
   "id": "a41c3141",
   "metadata": {},
   "outputs": [],
   "source": [
    "# Drop all columns except 'Title' and 'Genres'\n",
    "df1.drop(columns=[col for col in df1.columns if col not in ['Title','Genres']],inplace=True)"
   ]
  },
  {
   "cell_type": "code",
   "execution_count": 13,
   "id": "140ae6ee",
   "metadata": {},
   "outputs": [],
   "source": [
    "# Drop all columns except 'Title' and 'Genres'\n",
    "df2.drop(columns=[col for col in df2.columns if col not in ['Title','Genres']],inplace=True)"
   ]
  },
  {
   "cell_type": "code",
   "execution_count": 14,
   "id": "c97089af",
   "metadata": {},
   "outputs": [
    {
     "data": {
      "text/html": [
       "<div>\n",
       "<style scoped>\n",
       "    .dataframe tbody tr th:only-of-type {\n",
       "        vertical-align: middle;\n",
       "    }\n",
       "\n",
       "    .dataframe tbody tr th {\n",
       "        vertical-align: top;\n",
       "    }\n",
       "\n",
       "    .dataframe thead th {\n",
       "        text-align: right;\n",
       "    }\n",
       "</style>\n",
       "<table border=\"1\" class=\"dataframe\">\n",
       "  <thead>\n",
       "    <tr style=\"text-align: right;\">\n",
       "      <th></th>\n",
       "      <th>Title</th>\n",
       "      <th>Genres</th>\n",
       "    </tr>\n",
       "  </thead>\n",
       "  <tbody>\n",
       "    <tr>\n",
       "      <th>0</th>\n",
       "      <td>Drishyam</td>\n",
       "      <td>Crime, Drama, Mystery, Thriller</td>\n",
       "    </tr>\n",
       "    <tr>\n",
       "      <th>1</th>\n",
       "      <td>Black Friday</td>\n",
       "      <td>Action, Crime, Drama, History</td>\n",
       "    </tr>\n",
       "    <tr>\n",
       "      <th>2</th>\n",
       "      <td>NH 10</td>\n",
       "      <td>Action, Crime, Drama, Thriller</td>\n",
       "    </tr>\n",
       "    <tr>\n",
       "      <th>3</th>\n",
       "      <td>Gangs of Wasseypur</td>\n",
       "      <td>Action, Comedy, Crime, Drama, Thriller</td>\n",
       "    </tr>\n",
       "    <tr>\n",
       "      <th>4</th>\n",
       "      <td>Paan Singh Tomar</td>\n",
       "      <td>Action, Biography, Crime, Sport, Thriller</td>\n",
       "    </tr>\n",
       "  </tbody>\n",
       "</table>\n",
       "</div>"
      ],
      "text/plain": [
       "                Title                                     Genres\n",
       "0            Drishyam            Crime, Drama, Mystery, Thriller\n",
       "1        Black Friday              Action, Crime, Drama, History\n",
       "2               NH 10             Action, Crime, Drama, Thriller\n",
       "3  Gangs of Wasseypur     Action, Comedy, Crime, Drama, Thriller\n",
       "4    Paan Singh Tomar  Action, Biography, Crime, Sport, Thriller"
      ]
     },
     "execution_count": 14,
     "metadata": {},
     "output_type": "execute_result"
    }
   ],
   "source": [
    "df2.head(5)"
   ]
  },
  {
   "cell_type": "code",
   "execution_count": 15,
   "id": "99de054a",
   "metadata": {},
   "outputs": [],
   "source": [
    "# to combine dataframe\n",
    "\n",
    "combined_df = pd.concat([df1,df2],ignore_index=True)"
   ]
  },
  {
   "cell_type": "code",
   "execution_count": 16,
   "id": "8578702d",
   "metadata": {},
   "outputs": [
    {
     "name": "stdout",
     "output_type": "stream",
     "text": [
      "<class 'pandas.core.frame.DataFrame'>\n",
      "RangeIndex: 126 entries, 0 to 125\n",
      "Data columns (total 2 columns):\n",
      " #   Column  Non-Null Count  Dtype \n",
      "---  ------  --------------  ----- \n",
      " 0   Title   126 non-null    object\n",
      " 1   Genres  126 non-null    object\n",
      "dtypes: object(2)\n",
      "memory usage: 2.1+ KB\n"
     ]
    }
   ],
   "source": [
    "combined_df.info()"
   ]
  },
  {
   "cell_type": "code",
   "execution_count": 17,
   "id": "f1025015",
   "metadata": {},
   "outputs": [],
   "source": [
    "# create feature for recommendation\n",
    "combined_df['combined'] = combined_df['Title']+\" \"+combined_df['Genres']"
   ]
  },
  {
   "cell_type": "code",
   "execution_count": 18,
   "id": "8621a742",
   "metadata": {},
   "outputs": [],
   "source": [
    "#Convert Text to Numbers (TF-IDF)\n",
    "vectorizer = TfidfVectorizer(stop_words='english')\n",
    "tfidf_matrix = vectorizer.fit_transform(combined_df['combined'])"
   ]
  },
  {
   "cell_type": "code",
   "execution_count": 19,
   "id": "96e69a10",
   "metadata": {},
   "outputs": [],
   "source": [
    "# Compute Cosine Similarity\n",
    "similarity_matrix = cosine_similarity(tfidf_matrix)"
   ]
  },
  {
   "cell_type": "code",
   "execution_count": 20,
   "id": "d4163664",
   "metadata": {},
   "outputs": [],
   "source": [
    "def recommend_movies(title, df=combined_df, similarity_matrix=similarity_matrix, top_n=30):\n",
    "    if title not in df['Title'].values:\n",
    "        return \"Movie not found in the list.\"\n",
    "\n",
    "    # Find index of the movie\n",
    "    idx = df[df['Title'] == title].index[0]\n",
    "\n",
    "    # Get similarity scores for that movie\n",
    "    sim_scores = list(enumerate(similarity_matrix[idx]))\n",
    "\n",
    "    # Sort by score and remove the movie itself\n",
    "    sim_scores = sorted(sim_scores, key=lambda x: x[1], reverse=True)[1:top_n+1]\n",
    "\n",
    "    # Get recommended titles\n",
    "    recommended_titles = [df.iloc[i[0]]['Title'] for i in sim_scores]\n",
    "\n",
    "    return recommended_titles\n"
   ]
  },
  {
   "cell_type": "code",
   "execution_count": 21,
   "id": "a64d484d",
   "metadata": {},
   "outputs": [
    {
     "name": "stdout",
     "output_type": "stream",
     "text": [
      "['Golmaal 3', 'Housefull', 'One Two Three', \"It's Entertainment\", 'Welcome Back', 'Hungama', 'Partner', 'Biwi No. 1', 'Kunwara', 'Welcome', 'Judwaa', 'Hulchul', 'Ishq', 'Housefull 2', 'No Entry', 'Hero No. 1', 'Munna Bhai M.B.B.S.', 'Double Dhamaal', 'Double Dhamaal', 'Hera Pheri', 'Raja Babu', 'Heyy Babyy', 'Bheja Fry', 'Chashme Baddoor', 'Do Knot Disturb', 'Malamaal Weekly', 'Namastey London', 'Desi Boyz', 'Khatta Meetha', 'Jolly LLB']\n"
     ]
    }
   ],
   "source": [
    "# Enter the name of movie\n",
    "recommendations = recommend_movies(\"3 Idiots\")\n",
    "print(recommendations)"
   ]
  },
  {
   "cell_type": "code",
   "execution_count": 22,
   "id": "b5f61e9f",
   "metadata": {},
   "outputs": [
    {
     "data": {
      "text/html": [
       "<div>\n",
       "<style scoped>\n",
       "    .dataframe tbody tr th:only-of-type {\n",
       "        vertical-align: middle;\n",
       "    }\n",
       "\n",
       "    .dataframe tbody tr th {\n",
       "        vertical-align: top;\n",
       "    }\n",
       "\n",
       "    .dataframe thead th {\n",
       "        text-align: right;\n",
       "    }\n",
       "</style>\n",
       "<table border=\"1\" class=\"dataframe\">\n",
       "  <thead>\n",
       "    <tr style=\"text-align: right;\">\n",
       "      <th></th>\n",
       "      <th>Title</th>\n",
       "      <th>Genres</th>\n",
       "    </tr>\n",
       "  </thead>\n",
       "  <tbody>\n",
       "    <tr>\n",
       "      <th>0</th>\n",
       "      <td>Hera Pheri</td>\n",
       "      <td>Action, Comedy, Crime, Drama</td>\n",
       "    </tr>\n",
       "    <tr>\n",
       "      <th>1</th>\n",
       "      <td>Munna Bhai M.B.B.S.</td>\n",
       "      <td>Comedy, Drama</td>\n",
       "    </tr>\n",
       "    <tr>\n",
       "      <th>2</th>\n",
       "      <td>Andaz Apna Apna</td>\n",
       "      <td>Action, Comedy, Romance</td>\n",
       "    </tr>\n",
       "    <tr>\n",
       "      <th>3</th>\n",
       "      <td>3 Idiots</td>\n",
       "      <td>Comedy, Drama</td>\n",
       "    </tr>\n",
       "    <tr>\n",
       "      <th>4</th>\n",
       "      <td>Phir Hera Pheri</td>\n",
       "      <td>Comedy, Crime</td>\n",
       "    </tr>\n",
       "  </tbody>\n",
       "</table>\n",
       "</div>"
      ],
      "text/plain": [
       "                 Title                        Genres\n",
       "0           Hera Pheri  Action, Comedy, Crime, Drama\n",
       "1  Munna Bhai M.B.B.S.                 Comedy, Drama\n",
       "2      Andaz Apna Apna       Action, Comedy, Romance\n",
       "3             3 Idiots                 Comedy, Drama\n",
       "4      Phir Hera Pheri                 Comedy, Crime"
      ]
     },
     "execution_count": 22,
     "metadata": {},
     "output_type": "execute_result"
    }
   ],
   "source": [
    "df1.head(5)"
   ]
  },
  {
   "cell_type": "code",
   "execution_count": 23,
   "id": "ba570d85",
   "metadata": {},
   "outputs": [
    {
     "data": {
      "text/html": [
       "<div>\n",
       "<style scoped>\n",
       "    .dataframe tbody tr th:only-of-type {\n",
       "        vertical-align: middle;\n",
       "    }\n",
       "\n",
       "    .dataframe tbody tr th {\n",
       "        vertical-align: top;\n",
       "    }\n",
       "\n",
       "    .dataframe thead th {\n",
       "        text-align: right;\n",
       "    }\n",
       "</style>\n",
       "<table border=\"1\" class=\"dataframe\">\n",
       "  <thead>\n",
       "    <tr style=\"text-align: right;\">\n",
       "      <th></th>\n",
       "      <th>Title</th>\n",
       "      <th>Genres</th>\n",
       "    </tr>\n",
       "  </thead>\n",
       "  <tbody>\n",
       "    <tr>\n",
       "      <th>0</th>\n",
       "      <td>Drishyam</td>\n",
       "      <td>Crime, Drama, Mystery, Thriller</td>\n",
       "    </tr>\n",
       "    <tr>\n",
       "      <th>1</th>\n",
       "      <td>Black Friday</td>\n",
       "      <td>Action, Crime, Drama, History</td>\n",
       "    </tr>\n",
       "    <tr>\n",
       "      <th>2</th>\n",
       "      <td>NH 10</td>\n",
       "      <td>Action, Crime, Drama, Thriller</td>\n",
       "    </tr>\n",
       "    <tr>\n",
       "      <th>3</th>\n",
       "      <td>Gangs of Wasseypur</td>\n",
       "      <td>Action, Comedy, Crime, Drama, Thriller</td>\n",
       "    </tr>\n",
       "    <tr>\n",
       "      <th>4</th>\n",
       "      <td>Paan Singh Tomar</td>\n",
       "      <td>Action, Biography, Crime, Sport, Thriller</td>\n",
       "    </tr>\n",
       "  </tbody>\n",
       "</table>\n",
       "</div>"
      ],
      "text/plain": [
       "                Title                                     Genres\n",
       "0            Drishyam            Crime, Drama, Mystery, Thriller\n",
       "1        Black Friday              Action, Crime, Drama, History\n",
       "2               NH 10             Action, Crime, Drama, Thriller\n",
       "3  Gangs of Wasseypur     Action, Comedy, Crime, Drama, Thriller\n",
       "4    Paan Singh Tomar  Action, Biography, Crime, Sport, Thriller"
      ]
     },
     "execution_count": 23,
     "metadata": {},
     "output_type": "execute_result"
    }
   ],
   "source": [
    "df2.head(5)"
   ]
  }
 ],
 "metadata": {
  "kernelspec": {
   "display_name": "Python 3",
   "language": "python",
   "name": "python3"
  },
  "language_info": {
   "codemirror_mode": {
    "name": "ipython",
    "version": 3
   },
   "file_extension": ".py",
   "mimetype": "text/x-python",
   "name": "python",
   "nbconvert_exporter": "python",
   "pygments_lexer": "ipython3",
   "version": "3.13.5"
  }
 },
 "nbformat": 4,
 "nbformat_minor": 5
}
